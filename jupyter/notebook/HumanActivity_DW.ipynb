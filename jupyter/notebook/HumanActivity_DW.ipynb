{
 "cells": [
  {
   "cell_type": "code",
   "execution_count": 2,
   "metadata": {},
   "outputs": [
    {
     "ename": "KeyboardInterrupt",
     "evalue": "",
     "output_type": "error",
     "traceback": [
      "\u001b[0;31m---------------------------------------------------------------------------\u001b[0m",
      "\u001b[0;31mKeyboardInterrupt\u001b[0m                         Traceback (most recent call last)",
      "\u001b[0;32m<ipython-input-2-bff2a7ec2ebb>\u001b[0m in \u001b[0;36m<module>\u001b[0;34m\u001b[0m\n\u001b[0;32m----> 1\u001b[0;31m \u001b[0;32mimport\u001b[0m \u001b[0mfindspark\u001b[0m\u001b[0;34m\u001b[0m\u001b[0;34m\u001b[0m\u001b[0m\n\u001b[0m\u001b[1;32m      2\u001b[0m \u001b[0mfindspark\u001b[0m\u001b[0;34m.\u001b[0m\u001b[0madd_jars\u001b[0m\u001b[0;34m(\u001b[0m\u001b[0;34m'/app/postgresql-42.1.4.jar'\u001b[0m\u001b[0;34m)\u001b[0m\u001b[0;34m\u001b[0m\u001b[0;34m\u001b[0m\u001b[0m\n\u001b[1;32m      3\u001b[0m \u001b[0mfindspark\u001b[0m\u001b[0;34m.\u001b[0m\u001b[0minit\u001b[0m\u001b[0;34m(\u001b[0m\u001b[0;34m)\u001b[0m\u001b[0;34m\u001b[0m\u001b[0;34m\u001b[0m\u001b[0m\n",
      "\u001b[0;32m/usr/lib/python3.7/importlib/_bootstrap.py\u001b[0m in \u001b[0;36m_find_and_load\u001b[0;34m(name, import_)\u001b[0m\n",
      "\u001b[0;32m/usr/lib/python3.7/importlib/_bootstrap.py\u001b[0m in \u001b[0;36m_find_and_load_unlocked\u001b[0;34m(name, import_)\u001b[0m\n",
      "\u001b[0;32m/usr/lib/python3.7/importlib/_bootstrap.py\u001b[0m in \u001b[0;36m_find_spec\u001b[0;34m(name, path, target)\u001b[0m\n",
      "\u001b[0;31mKeyboardInterrupt\u001b[0m: "
     ]
    }
   ],
   "source": [
    "import findspark\n",
    "findspark.add_jars('/app/postgresql-42.1.4.jar')\n",
    "findspark.init()"
   ]
  },
  {
   "cell_type": "code",
   "execution_count": null,
   "metadata": {},
   "outputs": [],
   "source": [
    "from pyspark.sql import SparkSession\n",
    "spark = (\n",
    "    SparkSession.builder\n",
    "    .appName(\"argentinaDatosAdd\")\n",
    "    .config(\"spark.driver.memory\", \"512m\")\n",
    "    .config(\"spark.driver.cores\", \"1\")\n",
    "    .config(\"spark.driver.memory\", \"15g\")\n",
    "    .config(\"spark.executor.memory\", \"512m\")\n",
    "    .config(\"spark.executor.cores\", \"1\")\n",
    "    .config(\"spark.sql.shuffle.partitions\", \"2\")\n",
    "    .getOrCreate()\n",
    ")"
   ]
  },
  {
   "cell_type": "code",
   "execution_count": null,
   "metadata": {},
   "outputs": [],
   "source": [
    "from pyspark.sql.functions import *;\n",
    "from pyspark.sql.types import *;\n",
    "from scipy.stats import *"
   ]
  },
  {
   "cell_type": "code",
   "execution_count": null,
   "metadata": {},
   "outputs": [],
   "source": [
    "# Create dataframe from table in Postgres DB\n",
    "df = spark.read.format(\"jdbc\") \\\n",
    ".option(\"url\", \"jdbc:postgresql://postgres/human_activity\") \\\n",
    ".option(\"driver\", \"org.postgresql.Driver\") \\\n",
    ".option(\"dbtable\", \"human_activity.ha_dataset\") \\\n",
    ".option(\"user\", \"ha_user\") \\\n",
    ".option(\"password\", \"hnm4/4c71v1tY\") \\\n",
    ".load()"
   ]
  },
  {
   "cell_type": "code",
   "execution_count": 1,
   "metadata": {},
   "outputs": [
    {
     "name": "stderr",
     "output_type": "stream",
     "text": [
      "UsageError: Line magic function `%sql` not found.\n"
     ]
    }
   ],
   "source": [
    "%sql\n",
    "ha_dataset"
   ]
  },
  {
   "cell_type": "code",
   "execution_count": null,
   "metadata": {},
   "outputs": [],
   "source": [
    "%sql\n",
    "WITH\n",
    "match_total_cards AS(\n",
    "SELECT league, id_odsp, COUNT(id_odsp) AS match_cards\n",
    "FROM GAME_EVENTS\n",
    "WHERE event_type_str = \"Red card\" OR event_type_str = \"Yellow card\" OR event_type_str = \"Second yellow card\"\n",
    "GROUP BY league, id_odsp\n",
    ")\n",
    "SELECT league AS League, ROUND(AVG(match_cards),1) AS AvgCardsPerMatch\n",
    "FROM match_total_cards\n",
    "GROUP BY league\n",
    "ORDER BY league\n"
   ]
  },
  {
   "cell_type": "code",
   "execution_count": 6,
   "metadata": {},
   "outputs": [],
   "source": [
    "provRindeCultivos = (\n",
    "df.groupBy('provincia', 'cultivo', 'campania', 'fecha')\n",
    ".agg(avg('rendimiento_kgha').alias('rinde_kxha'))\n",
    ".orderBy(desc('rinde_kxha'))\n",
    ")"
   ]
  },
  {
   "cell_type": "code",
   "execution_count": 7,
   "metadata": {},
   "outputs": [],
   "source": [
    "provRindeCultivos \\\n",
    "    .write \\\n",
    "    .format(\"jdbc\") \\\n",
    "    .option(\"url\", \"jdbc:postgresql://postgres/agricultura\") \\\n",
    "    .option(\"dbtable\", \"agricultura.prov_rinde\") \\\n",
    "    .option(\"user\", \"agricultura\") \\\n",
    "    .option(\"password\", pas) \\\n",
    "    .option(\"driver\", \"org.postgresql.Driver\") \\\n",
    "    .mode('overwrite') \\\n",
    "    .save()"
   ]
  },
  {
   "cell_type": "code",
   "execution_count": 8,
   "metadata": {},
   "outputs": [],
   "source": [
    "sojaBArinde = (\n",
    "df.filter(df['provincia'] == \"BUENOS AIRES\")\n",
    ".filter(df['cultivo'] == 'Soja total')\n",
    ".select('provincia','rendimiento_kgha', 'campania', 'fecha')\n",
    ")"
   ]
  },
  {
   "cell_type": "code",
   "execution_count": 9,
   "metadata": {},
   "outputs": [],
   "source": [
    "sojaBArinde \\\n",
    "    .write \\\n",
    "    .format(\"jdbc\") \\\n",
    "    .option(\"url\", \"jdbc:postgresql://postgres/agricultura\") \\\n",
    "    .option(\"dbtable\", \"agricultura.soja_ba_rinde\") \\\n",
    "    .option(\"user\", \"agricultura\") \\\n",
    "    .option(\"password\", pas) \\\n",
    "    .option(\"driver\", \"org.postgresql.Driver\") \\\n",
    "    .mode('overwrite') \\\n",
    "    .save()"
   ]
  },
  {
   "cell_type": "code",
   "execution_count": 10,
   "metadata": {},
   "outputs": [],
   "source": [
    "cultivosProvincias = (\n",
    "df.withColumn(\"tn_cosechadas\",(col(\"ha_cosechada\") * col('rendimiento_kgha'))/1000)\n",
    ".groupBy('cultivo', 'provincia', 'fecha')\n",
    ".agg(sum('tn_cosechadas').alias('tn_total'))\n",
    ".orderBy(desc('tn_total'))\n",
    ")"
   ]
  },
  {
   "cell_type": "code",
   "execution_count": 11,
   "metadata": {},
   "outputs": [],
   "source": [
    "cultivosProvincias \\\n",
    ".write \\\n",
    ".format('jdbc') \\\n",
    ".option('url', 'jdbc:postgresql://postgres/agricultura') \\\n",
    ".option('dbtable', 'agricultura.cultivos_provincias') \\\n",
    ".option('user', 'agricultura') \\\n",
    ".option('password', pas) \\\n",
    ".option('driver', 'org.postgresql.Driver') \\\n",
    ".mode('overwrite') \\\n",
    ".save()"
   ]
  },
  {
   "cell_type": "code",
   "execution_count": null,
   "metadata": {},
   "outputs": [],
   "source": []
  },
  {
   "cell_type": "code",
   "execution_count": 12,
   "metadata": {},
   "outputs": [],
   "source": [
    "spark.stop()"
   ]
  },
  {
   "cell_type": "code",
   "execution_count": null,
   "metadata": {},
   "outputs": [],
   "source": []
  }
 ],
 "metadata": {
  "kernelspec": {
   "display_name": "Python 3",
   "language": "python",
   "name": "python3"
  },
  "language_info": {
   "codemirror_mode": {
    "name": "ipython",
    "version": 3
   },
   "file_extension": ".py",
   "mimetype": "text/x-python",
   "name": "python",
   "nbconvert_exporter": "python",
   "pygments_lexer": "ipython3",
   "version": "3.7.3"
  }
 },
 "nbformat": 4,
 "nbformat_minor": 2
}
